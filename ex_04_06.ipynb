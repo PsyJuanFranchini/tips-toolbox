{
  "nbformat": 4,
  "nbformat_minor": 0,
  "metadata": {
    "colab": {
      "name": "ex_04_06.ipynb",
      "provenance": [],
      "mount_file_id": "1WpkRE0mBR648n1WIv-a7ZU0wa4LEAldf",
      "authorship_tag": "ABX9TyMlpwYMWyGfw70nmpJLIOa8",
      "include_colab_link": true
    },
    "kernelspec": {
      "name": "python3",
      "display_name": "Python 3"
    }
  },
  "cells": [
    {
      "cell_type": "markdown",
      "metadata": {
        "id": "view-in-github",
        "colab_type": "text"
      },
      "source": [
        "<a href=\"https://colab.research.google.com/github/PsyJuanFranchini/tips-toolbox/blob/main/ex_04_06.ipynb\" target=\"_parent\"><img src=\"https://colab.research.google.com/assets/colab-badge.svg\" alt=\"Open In Colab\"/></a>"
      ]
    },
    {
      "cell_type": "markdown",
      "metadata": {
        "id": "1-RPzxbr1KbK"
      },
      "source": [
        "Chap 4 \r\n",
        "Ejercicio 4"
      ]
    },
    {
      "cell_type": "code",
      "metadata": {
        "id": "UIlYHyEqzKdC"
      },
      "source": [
        "# Write a program to prompt the user for hours and rate per hour using input to compute gross pay.\r\n",
        "# Pay should be the normal rate for hours up to 40\r\n",
        "# and time-and-a-half for the hourly rate for all hours worked above 40 hours.\r\n",
        "# Put the logic to do the computation of pay in a function called computepay()\r\n",
        "# and use the function to do the computation. The function should return a value.\r\n",
        "# Use 45 hours and a rate of 10.50 per hour to test the program (the pay should be 498.75).\r\n",
        "# You should use input to read a string and float() to convert the string to a number.\r\n",
        "# Do not worry about error checking the user input unless you want to -\r\n",
        "# you can assume the user types numbers properly. Do not name your variable sum or use the sum() function.\r\n",
        "\r\n",
        "\r\n",
        "#Def fx\r\n",
        "def computepay(h, r):\r\n",
        "    if h <= 40:\r\n",
        "        pay = h * r\r\n",
        "    else:\r\n",
        "        pay = 40 * r + (h - 40) * r * 1.5\r\n",
        "    return pay\r\n",
        "\r\n",
        "#Inputs\r\n",
        "hrs = input(\"Enter Hours:\")\r\n",
        "rate = input(\"Enter Rate:\")\r\n",
        "try:\r\n",
        "    h = float(hrs)\r\n",
        "    r = float(rate)\r\n",
        "except:\r\n",
        "    print(\"Error, please enter a numeric input.\")\r\n",
        "    quit()\r\n",
        "\r\n",
        "#Invoke\r\n",
        "p = computepay(h, r)\r\n",
        "print(\"Pay\", p)\r\n",
        "\r\n",
        "input('Press ENTER to exit')"
      ],
      "execution_count": null,
      "outputs": []
    },
    {
      "cell_type": "code",
      "metadata": {
        "id": "AeiiS15e2Fvd"
      },
      "source": [
        "#Load Necessary Libraries\r\n",
        "\r\n",
        "import matplotlib.pyplot as plt\r\n",
        "import numpy as np\r\n",
        "import pandas as pd\r\n",
        "\r\n",
        "#Basic Graph\r\n",
        "\r\n",
        "x = [0,1,2,3,4]\r\n",
        "y = [0,2,4,6,8]\r\n",
        "\r\n",
        "# Resize your Graph (dpi specifies pixels per inch. When saving probably should use 300 if possible)\r\n",
        "plt.figure(figsize=(8,5), dpi=100)\r\n",
        "\r\n",
        "# Line 1\r\n",
        "\r\n",
        "# Keyword Argument Notation\r\n",
        "plt.plot(x,y, label='2x', color='red', linewidth=2, marker='.', linestyle='--', markersize=10, markeredgecolor='blue')\r\n",
        "\r\n",
        "# Shorthand notation\r\n",
        "# fmt = '[color][marker][line]'\r\n",
        "plt.plot(x,y, 'b^--', label='2x')\r\n",
        "\r\n",
        "## Line 2\r\n",
        "\r\n",
        "# select interval we want to plot points at\r\n",
        "x2 = np.arange(0,4.5,0.5)\r\n",
        "\r\n",
        "# Plot part of the graph as line\r\n",
        "plt.plot(x2[:6], x2[:6]**2, 'r', label='X^2')\r\n",
        "\r\n",
        "# Plot remainder of graph as a dot\r\n",
        "plt.plot(x2[5:], x2[5:]**2, 'r--')\r\n",
        "\r\n",
        "# Add a title (specify font parameters with fontdict)\r\n",
        "plt.title('Our First Graph!', fontdict={'fontname': 'Comic Sans MS', 'fontsize': 20})\r\n",
        "\r\n",
        "# X and Y labels\r\n",
        "plt.xlabel('X Axis')\r\n",
        "plt.ylabel('Y Axis')\r\n",
        "\r\n",
        "# X, Y axis Tickmarks (scale of your graph)\r\n",
        "plt.xticks([0,1,2,3,4,])\r\n",
        "#plt.yticks([0,2,4,6,8,10])\r\n",
        "\r\n",
        "# Add a legend\r\n",
        "plt.legend()\r\n",
        "\r\n",
        "# Save figure (dpi 300 is good when saving so graph has high resolution)\r\n",
        "plt.savefig('mygraph.png', dpi=300)\r\n",
        "\r\n",
        "# Show plot\r\n",
        "plt.show()\r\n"
      ],
      "execution_count": null,
      "outputs": []
    }
  ]
}